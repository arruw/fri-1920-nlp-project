{
 "cells": [
  {
   "cell_type": "code",
   "execution_count": 1,
   "metadata": {},
   "outputs": [],
   "source": [
    "import pandas as pd\n",
    "import numpy as np\n",
    "import statistics\n",
    "\n",
    "import warnings\n",
    "warnings.filterwarnings('ignore')"
   ]
  },
  {
   "cell_type": "code",
   "execution_count": 2,
   "metadata": {},
   "outputs": [],
   "source": [
    "from sklearn.metrics import f1_score\n",
    "from sklearn.feature_extraction.text import TfidfVectorizer\n",
    "from sklearn.model_selection import train_test_split\n",
    "from sklearn.svm import LinearSVC\n",
    "from sklearn.tree import DecisionTreeClassifier\n",
    "from sklearn.linear_model import LogisticRegression\n",
    "from sklearn.naive_bayes import MultinomialNB\n",
    "from sklearn.model_selection import cross_val_score\n",
    "from sklearn import metrics"
   ]
  },
  {
   "cell_type": "code",
   "execution_count": 3,
   "metadata": {},
   "outputs": [],
   "source": [
    "df = pd.read_pickle(\"../data/features.pkl\")"
   ]
  },
  {
   "cell_type": "code",
   "execution_count": 4,
   "metadata": {},
   "outputs": [
    {
     "name": "stdout",
     "output_type": "stream",
     "text": [
      "LogisticRegression: 0.681906995945685\n",
      "MultinomialNB: 0.6872255317383095\n",
      "DecisionTreeClassifier: 0.6638098378888972\n",
      "LogisticRegression: 0.681906995945685\n"
     ]
    }
   ],
   "source": [
    "#used machine learning models\n",
    "models = [LogisticRegression(), MultinomialNB(), DecisionTreeClassifier(), LogisticRegression()]\n",
    "\n",
    "#sentiments\n",
    "classes = df.Sentiment.astype('int')\n",
    "\n",
    "#features, some are dropped for better results or because they are used as an index or a class\n",
    "features = df.drop([\"Document\", \"Entity\", \"Sentiment\", \"Avg_sentiment\", \"Sd_sentiment\", \"Doc_length\"], axis=1)\n",
    "\n",
    "(X, y) = (np.array(features), np.array(classes))\n",
    "\n",
    "for clf in models:\n",
    "\n",
    "    #scorings = [\"accuracy\", \"precision_weighted\", \"recall_weighted\", \"f1_weighted\"]\n",
    "    #for scoring in scorings:\n",
    "        #scores = cross_val_score(clf, X, y, cv=10, scoring=scoring)\n",
    "        #print(scoring + \": \" + (str) (statistics.mean(scores)))\n",
    "    scores = cross_val_score(clf, X, y, cv=10, scoring=\"f1_weighted\")\n",
    "    print(((str)(clf)).split(\"(\")[0] + \": \" + (str) (statistics.mean(scores)))"
   ]
  },
  {
   "cell_type": "code",
   "execution_count": 5,
   "metadata": {},
   "outputs": [
    {
     "name": "stdout",
     "output_type": "stream",
     "text": [
      "Majority F1 Weighted: 0.65\n"
     ]
    }
   ],
   "source": [
    "y_true = list(df.Sentiment)\n",
    "y_pred = [3 for i in range(len(y_true))]\n",
    "print(\"Majority F1 Weighted: {:.2f}\".format(round(f1_score(y_true, y_pred, average='weighted'), 2)))"
   ]
  },
  {
   "cell_type": "code",
   "execution_count": null,
   "metadata": {},
   "outputs": [],
   "source": []
  }
 ],
 "metadata": {
  "kernelspec": {
   "display_name": "Python 3",
   "language": "python",
   "name": "python3"
  },
  "language_info": {
   "codemirror_mode": {
    "name": "ipython",
    "version": 3
   },
   "file_extension": ".py",
   "mimetype": "text/x-python",
   "name": "python",
   "nbconvert_exporter": "python",
   "pygments_lexer": "ipython3",
   "version": "3.7.4"
  }
 },
 "nbformat": 4,
 "nbformat_minor": 2
}
