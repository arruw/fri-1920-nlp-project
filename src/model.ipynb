{
 "cells": [
  {
   "cell_type": "code",
   "execution_count": 1,
   "metadata": {},
   "outputs": [],
   "source": [
    "import pandas as pd\n",
    "import math\n",
    "from sklearn.metrics import accuracy_score\n",
    "from sklearn.metrics import f1_score"
   ]
  },
  {
   "cell_type": "code",
   "execution_count": 2,
   "metadata": {},
   "outputs": [],
   "source": [
    "from sklearn.feature_extraction.text import TfidfVectorizer\n",
    "from sklearn.model_selection import train_test_split\n",
    "from sklearn.svm import LinearSVC\n",
    "from sklearn.linear_model import LogisticRegression\n",
    "from sklearn.naive_bayes import MultinomialNB\n",
    "from sklearn.model_selection import cross_val_score\n",
    "from sklearn import metrics\n",
    "\n",
    "import warnings\n",
    "warnings.filterwarnings('ignore')"
   ]
  },
  {
   "cell_type": "code",
   "execution_count": 3,
   "metadata": {},
   "outputs": [],
   "source": [
    "models = [LogisticRegression(), LinearSVC(), MultinomialNB()]\n",
    "tfidf = TfidfVectorizer(sublinear_tf=True, min_df=0, norm='l2')\n",
    "\n",
    "def get_metrics(df, label_name, model):\n",
    "    df['tokens'] = df['tokens'].astype('U')\n",
    "    features = df.tokens\n",
    "    labels = df[label_name]\n",
    "    X_train, X_test, y_train, y_test = train_test_split(features, labels, test_size=0.2)\n",
    "    \n",
    "    X_train = tfidf.fit_transform(X_train)\n",
    "    clf = model\n",
    "    clf.fit(X_train, y_train)\n",
    "    \n",
    "    X_test = tfidf.transform(X_test)\n",
    "    y_pred = clf.predict(X_test)\n",
    "    \n",
    "    return metrics.classification_report(y_test, y_pred)"
   ]
  },
  {
   "cell_type": "code",
   "execution_count": 4,
   "metadata": {},
   "outputs": [
    {
     "data": {
      "text/html": [
       "<div>\n",
       "<style scoped>\n",
       "    .dataframe tbody tr th:only-of-type {\n",
       "        vertical-align: middle;\n",
       "    }\n",
       "\n",
       "    .dataframe tbody tr th {\n",
       "        vertical-align: top;\n",
       "    }\n",
       "\n",
       "    .dataframe thead th {\n",
       "        text-align: right;\n",
       "    }\n",
       "</style>\n",
       "<table border=\"1\" class=\"dataframe\">\n",
       "  <thead>\n",
       "    <tr style=\"text-align: right;\">\n",
       "      <th></th>\n",
       "      <th>tokens</th>\n",
       "      <th>LOC</th>\n",
       "      <th>ORG</th>\n",
       "      <th>PER</th>\n",
       "      <th>sentiment</th>\n",
       "      <th>neutral</th>\n",
       "      <th>positive</th>\n",
       "    </tr>\n",
       "  </thead>\n",
       "  <tbody>\n",
       "    <tr>\n",
       "      <td>0</td>\n",
       "      <td>komisija mora narediti kolega b komisija anali...</td>\n",
       "      <td>0</td>\n",
       "      <td>1</td>\n",
       "      <td>0</td>\n",
       "      <td>3</td>\n",
       "      <td>1</td>\n",
       "      <td>-1</td>\n",
       "    </tr>\n",
       "    <tr>\n",
       "      <td>1</td>\n",
       "      <td>današnji srečanje v povedati minister za</td>\n",
       "      <td>1</td>\n",
       "      <td>0</td>\n",
       "      <td>0</td>\n",
       "      <td>3</td>\n",
       "      <td>1</td>\n",
       "      <td>-1</td>\n",
       "    </tr>\n",
       "    <tr>\n",
       "      <td>2</td>\n",
       "      <td>po njun beseda in francija podoben podoben usm...</td>\n",
       "      <td>0</td>\n",
       "      <td>1</td>\n",
       "      <td>0</td>\n",
       "      <td>3</td>\n",
       "      <td>1</td>\n",
       "      <td>-1</td>\n",
       "    </tr>\n",
       "    <tr>\n",
       "      <td>3</td>\n",
       "      <td>beseda slovenija in podoben stališče glede usm...</td>\n",
       "      <td>0</td>\n",
       "      <td>1</td>\n",
       "      <td>0</td>\n",
       "      <td>3</td>\n",
       "      <td>1</td>\n",
       "      <td>-1</td>\n",
       "    </tr>\n",
       "    <tr>\n",
       "      <td>4</td>\n",
       "      <td>v čas predsedovanje prihodnji leto med možen u...</td>\n",
       "      <td>0</td>\n",
       "      <td>1</td>\n",
       "      <td>0</td>\n",
       "      <td>3</td>\n",
       "      <td>1</td>\n",
       "      <td>-1</td>\n",
       "    </tr>\n",
       "  </tbody>\n",
       "</table>\n",
       "</div>"
      ],
      "text/plain": [
       "                                              tokens  LOC  ORG  PER  \\\n",
       "0  komisija mora narediti kolega b komisija anali...    0    1    0   \n",
       "1           današnji srečanje v povedati minister za    1    0    0   \n",
       "2  po njun beseda in francija podoben podoben usm...    0    1    0   \n",
       "3  beseda slovenija in podoben stališče glede usm...    0    1    0   \n",
       "4  v čas predsedovanje prihodnji leto med možen u...    0    1    0   \n",
       "\n",
       "   sentiment  neutral  positive  \n",
       "0          3        1        -1  \n",
       "1          3        1        -1  \n",
       "2          3        1        -1  \n",
       "3          3        1        -1  \n",
       "4          3        1        -1  "
      ]
     },
     "execution_count": 4,
     "metadata": {},
     "output_type": "execute_result"
    }
   ],
   "source": [
    "name = 'senticoref_cleaned.tsv'\n",
    "df = pd.read_csv(name)\n",
    "df.head()"
   ]
  },
  {
   "cell_type": "code",
   "execution_count": 5,
   "metadata": {},
   "outputs": [],
   "source": [
    "with open(\"negative_words_Kadunc.txt\", \"r\", encoding=\"utf-8\") as file:\n",
    "    data = file.read()\n",
    "    negative_words = data.split(\"\\n\")\n",
    "    \n",
    "with open(\"positive_words_Kadunc.txt\", \"r\", encoding=\"utf-8\") as file:\n",
    "    data = file.read()\n",
    "    positive_words = data.split(\"\\n\")"
   ]
  },
  {
   "cell_type": "code",
   "execution_count": 6,
   "metadata": {},
   "outputs": [],
   "source": [
    "lexicon_results = []\n",
    "positive = 0\n",
    "negative = 0\n",
    "for i in range(df.shape[0]):\n",
    "    if not isinstance(df.tokens.values[i], str) and math.isnan(df.tokens.values[i]):\n",
    "        positive = 0\n",
    "    else:\n",
    "        positive = sum([1 if token in positive_words else 0 for token in df.tokens.values[i].split()])\n",
    "    \n",
    "    if not isinstance(df.tokens.values[i], str) and math.isnan(df.tokens.values[i]):\n",
    "        negative = 0\n",
    "    else:\n",
    "        negative = sum([1 if token in negative_words else 0 for token in df.tokens.values[i].split()])\n",
    "    \n",
    "    #assign sentiment\n",
    "    if positive == negative:\n",
    "        neutral = 1\n",
    "    else:\n",
    "        neutral = 0\n",
    "    lexicon_results.append(neutral)"
   ]
  },
  {
   "cell_type": "code",
   "execution_count": 7,
   "metadata": {},
   "outputs": [
    {
     "name": "stdout",
     "output_type": "stream",
     "text": [
      "Lexicon results\n",
      "Majority: 0.7695204122076893\n",
      "Accuracy: 0.6427863654379706\n",
      "F1 score: 0.7588467456017125\n"
     ]
    }
   ],
   "source": [
    "print(\"Lexicon results\")\n",
    "print(\"Majority: \" + str(max(df.neutral.value_counts())/sum(df.neutral.value_counts())))\n",
    "print(\"Accuracy: \" + str(accuracy_score(df.neutral.values, lexicon_results)))\n",
    "print(\"F1 score: \" + str(f1_score(df.neutral.values, lexicon_results)))"
   ]
  },
  {
   "cell_type": "code",
   "execution_count": 8,
   "metadata": {},
   "outputs": [
    {
     "name": "stdout",
     "output_type": "stream",
     "text": [
      "LogisticRegression\n",
      "              precision    recall  f1-score   support\n",
      "\n",
      "           1       0.00      0.00      0.00         5\n",
      "           2       0.62      0.05      0.10       252\n",
      "           3       0.77      0.99      0.87      1541\n",
      "           4       0.50      0.01      0.03       216\n",
      "           5       0.00      0.00      0.00         5\n",
      "\n",
      "    accuracy                           0.77      2019\n",
      "   macro avg       0.38      0.21      0.20      2019\n",
      "weighted avg       0.72      0.77      0.68      2019\n",
      "\n",
      "LinearSVC\n",
      "              precision    recall  f1-score   support\n",
      "\n",
      "           1       0.00      0.00      0.00         4\n",
      "           2       0.47      0.28      0.35       233\n",
      "           3       0.81      0.94      0.87      1550\n",
      "           4       0.44      0.15      0.23       228\n",
      "           5       0.00      0.00      0.00         4\n",
      "\n",
      "    accuracy                           0.77      2019\n",
      "   macro avg       0.34      0.27      0.29      2019\n",
      "weighted avg       0.72      0.77      0.73      2019\n",
      "\n",
      "MultinomialNB\n",
      "              precision    recall  f1-score   support\n",
      "\n",
      "           1       0.00      0.00      0.00         6\n",
      "           2       1.00      0.00      0.01       259\n",
      "           3       0.77      1.00      0.87      1563\n",
      "           4       1.00      0.01      0.01       190\n",
      "           5       0.00      0.00      0.00         1\n",
      "\n",
      "    accuracy                           0.78      2019\n",
      "   macro avg       0.55      0.20      0.18      2019\n",
      "weighted avg       0.82      0.78      0.68      2019\n",
      "\n"
     ]
    }
   ],
   "source": [
    "#Multiclass classification\n",
    "for model in models:\n",
    "    print(str(model).split(\"(\")[0])\n",
    "    print(get_metrics(df, 'sentiment', model))"
   ]
  },
  {
   "cell_type": "code",
   "execution_count": 9,
   "metadata": {},
   "outputs": [
    {
     "name": "stdout",
     "output_type": "stream",
     "text": [
      "LogisticRegression\n",
      "              precision    recall  f1-score   support\n",
      "\n",
      "           0       0.48      0.07      0.13       439\n",
      "           1       0.79      0.98      0.87      1580\n",
      "\n",
      "    accuracy                           0.78      2019\n",
      "   macro avg       0.63      0.53      0.50      2019\n",
      "weighted avg       0.72      0.78      0.71      2019\n",
      "\n",
      "LinearSVC\n",
      "              precision    recall  f1-score   support\n",
      "\n",
      "           0       0.58      0.35      0.44       474\n",
      "           1       0.82      0.92      0.87      1545\n",
      "\n",
      "    accuracy                           0.79      2019\n",
      "   macro avg       0.70      0.64      0.65      2019\n",
      "weighted avg       0.77      0.79      0.77      2019\n",
      "\n",
      "MultinomialNB\n",
      "              precision    recall  f1-score   support\n",
      "\n",
      "           0       0.67      0.03      0.07       461\n",
      "           1       0.78      0.99      0.87      1558\n",
      "\n",
      "    accuracy                           0.78      2019\n",
      "   macro avg       0.72      0.51      0.47      2019\n",
      "weighted avg       0.75      0.78      0.69      2019\n",
      "\n"
     ]
    }
   ],
   "source": [
    "#Binary classification for neutral entities\n",
    "for model in models:\n",
    "    print(str(model).split(\"(\")[0])\n",
    "    print(get_metrics(df, 'neutral', model))"
   ]
  },
  {
   "cell_type": "code",
   "execution_count": 10,
   "metadata": {},
   "outputs": [
    {
     "name": "stdout",
     "output_type": "stream",
     "text": [
      "LogisticRegression\n",
      "              precision    recall  f1-score   support\n",
      "\n",
      "           0       0.73      0.83      0.78       244\n",
      "           1       0.78      0.66      0.72       222\n",
      "\n",
      "    accuracy                           0.75       466\n",
      "   macro avg       0.76      0.75      0.75       466\n",
      "weighted avg       0.75      0.75      0.75       466\n",
      "\n",
      "LinearSVC\n",
      "              precision    recall  f1-score   support\n",
      "\n",
      "           0       0.77      0.73      0.75       274\n",
      "           1       0.64      0.68      0.66       192\n",
      "\n",
      "    accuracy                           0.71       466\n",
      "   macro avg       0.70      0.71      0.70       466\n",
      "weighted avg       0.71      0.71      0.71       466\n",
      "\n",
      "MultinomialNB\n",
      "              precision    recall  f1-score   support\n",
      "\n",
      "           0       0.66      0.90      0.76       241\n",
      "           1       0.83      0.51      0.63       225\n",
      "\n",
      "    accuracy                           0.71       466\n",
      "   macro avg       0.75      0.71      0.70       466\n",
      "weighted avg       0.74      0.71      0.70       466\n",
      "\n"
     ]
    }
   ],
   "source": [
    "#Binary classification for positive and negative entitites\n",
    "pdf = df.loc[df['positive'] != -1]\n",
    "\n",
    "for model in models:\n",
    "    print(str(model).split(\"(\")[0])\n",
    "    print(get_metrics(pdf, 'positive', model))"
   ]
  },
  {
   "cell_type": "code",
   "execution_count": null,
   "metadata": {},
   "outputs": [],
   "source": []
  }
 ],
 "metadata": {
  "kernelspec": {
   "display_name": "Python 3",
   "language": "python",
   "name": "python3"
  },
  "language_info": {
   "codemirror_mode": {
    "name": "ipython",
    "version": 3
   },
   "file_extension": ".py",
   "mimetype": "text/x-python",
   "name": "python",
   "nbconvert_exporter": "python",
   "pygments_lexer": "ipython3",
   "version": "3.7.4"
  }
 },
 "nbformat": 4,
 "nbformat_minor": 2
}
